{
 "cells": [
  {
   "cell_type": "code",
   "execution_count": 1,
   "id": "64d3a3e3",
   "metadata": {},
   "outputs": [],
   "source": [
    "import basedosdados as bd"
   ]
  },
  {
   "cell_type": "code",
   "execution_count": 4,
   "id": "7b6bc1ea",
   "metadata": {},
   "outputs": [
    {
     "name": "stderr",
     "output_type": "stream",
     "text": [
      "Downloading: 100%|█████████████████████████████████████████████████████| 25117781/25117781 [56:18<00:00, 7433.79rows/s]\n"
     ]
    }
   ],
   "source": [
    "# carregando base de dados \"ncm_exportacao\"\n",
    "\n",
    "df = bd.read_table(dataset_id='br_me_comex_stat',\n",
    "table_id='ncm_exportacao',\n",
    "billing_project_id=\"projetoportfoliosql\")"
   ]
  },
  {
   "cell_type": "code",
   "execution_count": 5,
   "id": "7bb68a78",
   "metadata": {},
   "outputs": [
    {
     "data": {
      "text/html": [
       "<div>\n",
       "<style scoped>\n",
       "    .dataframe tbody tr th:only-of-type {\n",
       "        vertical-align: middle;\n",
       "    }\n",
       "\n",
       "    .dataframe tbody tr th {\n",
       "        vertical-align: top;\n",
       "    }\n",
       "\n",
       "    .dataframe thead th {\n",
       "        text-align: right;\n",
       "    }\n",
       "</style>\n",
       "<table border=\"1\" class=\"dataframe\">\n",
       "  <thead>\n",
       "    <tr style=\"text-align: right;\">\n",
       "      <th></th>\n",
       "      <th>ano</th>\n",
       "      <th>mes</th>\n",
       "      <th>id_ncm</th>\n",
       "      <th>id_unidade</th>\n",
       "      <th>id_pais</th>\n",
       "      <th>sigla_uf_ncm</th>\n",
       "      <th>id_via</th>\n",
       "      <th>id_urf</th>\n",
       "      <th>quantidade_estatistica</th>\n",
       "      <th>peso_liquido_kg</th>\n",
       "      <th>valor_fob_dolar</th>\n",
       "    </tr>\n",
       "  </thead>\n",
       "  <tbody>\n",
       "    <tr>\n",
       "      <th>0</th>\n",
       "      <td>2008</td>\n",
       "      <td>3</td>\n",
       "      <td>44123200</td>\n",
       "      <td>16</td>\n",
       "      <td>297</td>\n",
       "      <td>MA</td>\n",
       "      <td>1</td>\n",
       "      <td>217600</td>\n",
       "      <td>21</td>\n",
       "      <td>18000</td>\n",
       "      <td>13852</td>\n",
       "    </tr>\n",
       "    <tr>\n",
       "      <th>1</th>\n",
       "      <td>2008</td>\n",
       "      <td>3</td>\n",
       "      <td>44079990</td>\n",
       "      <td>16</td>\n",
       "      <td>845</td>\n",
       "      <td>ND</td>\n",
       "      <td>7</td>\n",
       "      <td>1015600</td>\n",
       "      <td>51</td>\n",
       "      <td>61677</td>\n",
       "      <td>34163</td>\n",
       "    </tr>\n",
       "    <tr>\n",
       "      <th>2</th>\n",
       "      <td>2008</td>\n",
       "      <td>3</td>\n",
       "      <td>44072990</td>\n",
       "      <td>16</td>\n",
       "      <td>573</td>\n",
       "      <td>PA</td>\n",
       "      <td>2</td>\n",
       "      <td>210200</td>\n",
       "      <td>194</td>\n",
       "      <td>209816</td>\n",
       "      <td>98313</td>\n",
       "    </tr>\n",
       "    <tr>\n",
       "      <th>3</th>\n",
       "      <td>2008</td>\n",
       "      <td>3</td>\n",
       "      <td>92099900</td>\n",
       "      <td>10</td>\n",
       "      <td>607</td>\n",
       "      <td>ZN</td>\n",
       "      <td>4</td>\n",
       "      <td>815500</td>\n",
       "      <td>0</td>\n",
       "      <td>0</td>\n",
       "      <td>43</td>\n",
       "    </tr>\n",
       "    <tr>\n",
       "      <th>4</th>\n",
       "      <td>2008</td>\n",
       "      <td>3</td>\n",
       "      <td>44072920</td>\n",
       "      <td>16</td>\n",
       "      <td>160</td>\n",
       "      <td>PA</td>\n",
       "      <td>2</td>\n",
       "      <td>210200</td>\n",
       "      <td>17</td>\n",
       "      <td>15752</td>\n",
       "      <td>15316</td>\n",
       "    </tr>\n",
       "  </tbody>\n",
       "</table>\n",
       "</div>"
      ],
      "text/plain": [
       "    ano  mes    id_ncm id_unidade id_pais sigla_uf_ncm id_via   id_urf  \\\n",
       "0  2008    3  44123200         16     297           MA      1   217600   \n",
       "1  2008    3  44079990         16     845           ND      7  1015600   \n",
       "2  2008    3  44072990         16     573           PA      2   210200   \n",
       "3  2008    3  92099900         10     607           ZN      4   815500   \n",
       "4  2008    3  44072920         16     160           PA      2   210200   \n",
       "\n",
       "   quantidade_estatistica  peso_liquido_kg  valor_fob_dolar  \n",
       "0                      21            18000            13852  \n",
       "1                      51            61677            34163  \n",
       "2                     194           209816            98313  \n",
       "3                       0                0               43  \n",
       "4                      17            15752            15316  "
      ]
     },
     "execution_count": 5,
     "metadata": {},
     "output_type": "execute_result"
    }
   ],
   "source": [
    "df.head()"
   ]
  },
  {
   "cell_type": "code",
   "execution_count": null,
   "id": "f7954a19",
   "metadata": {},
   "outputs": [],
   "source": [
    "df.to_csv('ncm_exportacao.csv', index = False)"
   ]
  },
  {
   "cell_type": "code",
   "execution_count": null,
   "id": "0f1f61be",
   "metadata": {},
   "outputs": [],
   "source": [
    "# carregando base de dados \"ncm_importacao\"\n",
    "\n",
    "ncm_importacao = bd.read_table(dataset_id='br_me_comex_stat',\n",
    "table_id='ncm_importacao',\n",
    "billing_project_id=\"projetoportfoliosql\")"
   ]
  },
  {
   "cell_type": "code",
   "execution_count": null,
   "id": "31afc926",
   "metadata": {},
   "outputs": [],
   "source": [
    "ncm_importacao.head()"
   ]
  },
  {
   "cell_type": "code",
   "execution_count": null,
   "id": "3376fa27",
   "metadata": {},
   "outputs": [],
   "source": [
    "ncm_importacao.to_csv('ncm_importacao.csv', index = False)"
   ]
  }
 ],
 "metadata": {
  "kernelspec": {
   "display_name": "Python 3 (ipykernel)",
   "language": "python",
   "name": "python3"
  },
  "language_info": {
   "codemirror_mode": {
    "name": "ipython",
    "version": 3
   },
   "file_extension": ".py",
   "mimetype": "text/x-python",
   "name": "python",
   "nbconvert_exporter": "python",
   "pygments_lexer": "ipython3",
   "version": "3.9.13"
  }
 },
 "nbformat": 4,
 "nbformat_minor": 5
}
